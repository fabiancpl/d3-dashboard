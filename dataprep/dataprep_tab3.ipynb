{
 "cells": [
  {
   "cell_type": "code",
   "execution_count": 1,
   "id": "dc52d44e",
   "metadata": {},
   "outputs": [],
   "source": [
    "import pandas as pd"
   ]
  },
  {
   "cell_type": "code",
   "execution_count": 3,
   "id": "0ef0b241",
   "metadata": {},
   "outputs": [],
   "source": [
    "df = pd.read_excel(\"../data/lineplotsv2.xlsx\")"
   ]
  },
  {
   "cell_type": "code",
   "execution_count": 4,
   "id": "02a8612e",
   "metadata": {},
   "outputs": [
    {
     "data": {
      "text/plain": [
       "(1296, 8)"
      ]
     },
     "execution_count": 4,
     "metadata": {},
     "output_type": "execute_result"
    }
   ],
   "source": [
    "df.shape"
   ]
  },
  {
   "cell_type": "code",
   "execution_count": 5,
   "id": "52738e8b",
   "metadata": {},
   "outputs": [
    {
     "data": {
      "text/plain": [
       "anio             int64\n",
       "val            float64\n",
       "upper          float64\n",
       "lower          float64\n",
       "iter            object\n",
       "var             object\n",
       "scenario2       object\n",
       "description     object\n",
       "dtype: object"
      ]
     },
     "execution_count": 5,
     "metadata": {},
     "output_type": "execute_result"
    }
   ],
   "source": [
    "df.dtypes"
   ]
  },
  {
   "cell_type": "code",
   "execution_count": 6,
   "id": "91ac6a1f",
   "metadata": {},
   "outputs": [
    {
     "data": {
      "text/html": [
       "<div>\n",
       "<style scoped>\n",
       "    .dataframe tbody tr th:only-of-type {\n",
       "        vertical-align: middle;\n",
       "    }\n",
       "\n",
       "    .dataframe tbody tr th {\n",
       "        vertical-align: top;\n",
       "    }\n",
       "\n",
       "    .dataframe thead th {\n",
       "        text-align: right;\n",
       "    }\n",
       "</style>\n",
       "<table border=\"1\" class=\"dataframe\">\n",
       "  <thead>\n",
       "    <tr style=\"text-align: right;\">\n",
       "      <th></th>\n",
       "      <th>anio</th>\n",
       "      <th>val</th>\n",
       "      <th>upper</th>\n",
       "      <th>lower</th>\n",
       "      <th>iter</th>\n",
       "      <th>var</th>\n",
       "      <th>scenario2</th>\n",
       "      <th>description</th>\n",
       "    </tr>\n",
       "  </thead>\n",
       "  <tbody>\n",
       "    <tr>\n",
       "      <th>147</th>\n",
       "      <td>1</td>\n",
       "      <td>0.467171</td>\n",
       "      <td>0.469033</td>\n",
       "      <td>0.465309</td>\n",
       "      <td>True_-0.2_-0.2_0_0</td>\n",
       "      <td>DD White vs Others</td>\n",
       "      <td>F + G</td>\n",
       "      <td>This scenario combines decreasing income eligi...</td>\n",
       "    </tr>\n",
       "    <tr>\n",
       "      <th>300</th>\n",
       "      <td>13</td>\n",
       "      <td>0.372160</td>\n",
       "      <td>0.378122</td>\n",
       "      <td>0.366198</td>\n",
       "      <td>True_-0.2_0_0_0</td>\n",
       "      <td>DD White vs Asian</td>\n",
       "      <td>F</td>\n",
       "      <td>NaN</td>\n",
       "    </tr>\n",
       "    <tr>\n",
       "      <th>1127</th>\n",
       "      <td>3</td>\n",
       "      <td>0.467273</td>\n",
       "      <td>0.468629</td>\n",
       "      <td>0.465916</td>\n",
       "      <td>True_0_0_0.2_0</td>\n",
       "      <td>DD White vs Others</td>\n",
       "      <td>E</td>\n",
       "      <td>In this scenario, the importance of the eligib...</td>\n",
       "    </tr>\n",
       "    <tr>\n",
       "      <th>1203</th>\n",
       "      <td>16</td>\n",
       "      <td>14.362882</td>\n",
       "      <td>14.441032</td>\n",
       "      <td>14.284732</td>\n",
       "      <td>True_0_0_0_0</td>\n",
       "      <td>Food insecurity</td>\n",
       "      <td>B</td>\n",
       "      <td>This is the baseline scenario that replicates ...</td>\n",
       "    </tr>\n",
       "    <tr>\n",
       "      <th>1094</th>\n",
       "      <td>15</td>\n",
       "      <td>14.276537</td>\n",
       "      <td>14.354491</td>\n",
       "      <td>14.198582</td>\n",
       "      <td>True_0_0_0.2_0</td>\n",
       "      <td>Food insecurity</td>\n",
       "      <td>E</td>\n",
       "      <td>In this scenario, the importance of the eligib...</td>\n",
       "    </tr>\n",
       "  </tbody>\n",
       "</table>\n",
       "</div>"
      ],
      "text/plain": [
       "      anio        val      upper      lower                iter  \\\n",
       "147      1   0.467171   0.469033   0.465309  True_-0.2_-0.2_0_0   \n",
       "300     13   0.372160   0.378122   0.366198     True_-0.2_0_0_0   \n",
       "1127     3   0.467273   0.468629   0.465916      True_0_0_0.2_0   \n",
       "1203    16  14.362882  14.441032  14.284732        True_0_0_0_0   \n",
       "1094    15  14.276537  14.354491  14.198582      True_0_0_0.2_0   \n",
       "\n",
       "                     var scenario2  \\\n",
       "147   DD White vs Others     F + G   \n",
       "300    DD White vs Asian         F   \n",
       "1127  DD White vs Others         E   \n",
       "1203     Food insecurity         B   \n",
       "1094     Food insecurity         E   \n",
       "\n",
       "                                            description  \n",
       "147   This scenario combines decreasing income eligi...  \n",
       "300                                                 NaN  \n",
       "1127  In this scenario, the importance of the eligib...  \n",
       "1203  This is the baseline scenario that replicates ...  \n",
       "1094  In this scenario, the importance of the eligib...  "
      ]
     },
     "execution_count": 6,
     "metadata": {},
     "output_type": "execute_result"
    }
   ],
   "source": [
    "df.sample(5)"
   ]
  },
  {
   "cell_type": "code",
   "execution_count": 7,
   "id": "4d33b3b1",
   "metadata": {},
   "outputs": [],
   "source": [
    "df = df[[\"scenario2\", \"anio\", \"var\", \"val\"]].rename(columns={\"scenario2\": \"scenario\", \"anio\": \"year\", \"var\": \"variable\", \"val\": \"value\"})"
   ]
  },
  {
   "cell_type": "code",
   "execution_count": 8,
   "id": "8c961261",
   "metadata": {},
   "outputs": [
    {
     "data": {
      "text/plain": [
       "scenario     object\n",
       "year          int64\n",
       "variable     object\n",
       "value       float64\n",
       "dtype: object"
      ]
     },
     "execution_count": 8,
     "metadata": {},
     "output_type": "execute_result"
    }
   ],
   "source": [
    "df.dtypes"
   ]
  },
  {
   "cell_type": "code",
   "execution_count": 9,
   "id": "b84fdec8",
   "metadata": {},
   "outputs": [
    {
     "data": {
      "text/html": [
       "<div>\n",
       "<style scoped>\n",
       "    .dataframe tbody tr th:only-of-type {\n",
       "        vertical-align: middle;\n",
       "    }\n",
       "\n",
       "    .dataframe tbody tr th {\n",
       "        vertical-align: top;\n",
       "    }\n",
       "\n",
       "    .dataframe thead th {\n",
       "        text-align: right;\n",
       "    }\n",
       "</style>\n",
       "<table border=\"1\" class=\"dataframe\">\n",
       "  <thead>\n",
       "    <tr style=\"text-align: right;\">\n",
       "      <th></th>\n",
       "      <th>scenario</th>\n",
       "      <th>year</th>\n",
       "      <th>variable</th>\n",
       "      <th>value</th>\n",
       "    </tr>\n",
       "  </thead>\n",
       "  <tbody>\n",
       "    <tr>\n",
       "      <th>74</th>\n",
       "      <td>A</td>\n",
       "      <td>10</td>\n",
       "      <td>DD White vs Hispanic</td>\n",
       "      <td>0.474904</td>\n",
       "    </tr>\n",
       "    <tr>\n",
       "      <th>32</th>\n",
       "      <td>A</td>\n",
       "      <td>15</td>\n",
       "      <td>House insecurity</td>\n",
       "      <td>13.140586</td>\n",
       "    </tr>\n",
       "    <tr>\n",
       "      <th>945</th>\n",
       "      <td>D + E</td>\n",
       "      <td>12</td>\n",
       "      <td>DD White vs African American</td>\n",
       "      <td>0.545787</td>\n",
       "    </tr>\n",
       "    <tr>\n",
       "      <th>1150</th>\n",
       "      <td>E</td>\n",
       "      <td>9</td>\n",
       "      <td>DD White vs Hispanic</td>\n",
       "      <td>0.470173</td>\n",
       "    </tr>\n",
       "    <tr>\n",
       "      <th>811</th>\n",
       "      <td>G</td>\n",
       "      <td>5</td>\n",
       "      <td>DD White vs Others</td>\n",
       "      <td>0.467483</td>\n",
       "    </tr>\n",
       "  </tbody>\n",
       "</table>\n",
       "</div>"
      ],
      "text/plain": [
       "     scenario  year                      variable      value\n",
       "74          A    10          DD White vs Hispanic   0.474904\n",
       "32          A    15              House insecurity  13.140586\n",
       "945     D + E    12  DD White vs African American   0.545787\n",
       "1150        E     9          DD White vs Hispanic   0.470173\n",
       "811         G     5            DD White vs Others   0.467483"
      ]
     },
     "execution_count": 9,
     "metadata": {},
     "output_type": "execute_result"
    }
   ],
   "source": [
    "df.sample(5)"
   ]
  },
  {
   "cell_type": "code",
   "execution_count": 11,
   "id": "c6b2fc7e",
   "metadata": {},
   "outputs": [
    {
     "data": {
      "text/plain": [
       "['Food insecurity',\n",
       " 'House insecurity',\n",
       " 'DD White vs Asian',\n",
       " 'DD White vs African American',\n",
       " 'DD White vs Hispanic',\n",
       " 'DD White vs Others']"
      ]
     },
     "execution_count": 11,
     "metadata": {},
     "output_type": "execute_result"
    }
   ],
   "source": [
    "df[\"variable\"].unique().tolist()"
   ]
  },
  {
   "cell_type": "code",
   "execution_count": 10,
   "id": "640ed67e",
   "metadata": {},
   "outputs": [],
   "source": [
    "df.to_csv(\"../www/data/scenarios_simulation.csv\", index=False)"
   ]
  },
  {
   "cell_type": "code",
   "execution_count": null,
   "id": "ccd54829",
   "metadata": {},
   "outputs": [],
   "source": []
  }
 ],
 "metadata": {
  "kernelspec": {
   "display_name": "base",
   "language": "python",
   "name": "python3"
  },
  "language_info": {
   "codemirror_mode": {
    "name": "ipython",
    "version": 3
   },
   "file_extension": ".py",
   "mimetype": "text/x-python",
   "name": "python",
   "nbconvert_exporter": "python",
   "pygments_lexer": "ipython3",
   "version": "3.11.7"
  }
 },
 "nbformat": 4,
 "nbformat_minor": 5
}
