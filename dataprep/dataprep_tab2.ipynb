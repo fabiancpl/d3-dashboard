{
 "cells": [
  {
   "cell_type": "code",
   "execution_count": 2,
   "id": "5d2ec867",
   "metadata": {},
   "outputs": [],
   "source": [
    "import pandas as pd"
   ]
  },
  {
   "cell_type": "code",
   "execution_count": 4,
   "id": "61956235",
   "metadata": {},
   "outputs": [],
   "source": [
    "df = pd.read_csv(\"../data/boxplots.csv\", low_memory=False)"
   ]
  },
  {
   "cell_type": "code",
   "execution_count": 5,
   "id": "14044cfe",
   "metadata": {},
   "outputs": [
    {
     "data": {
      "text/plain": [
       "(1154431, 9)"
      ]
     },
     "execution_count": 5,
     "metadata": {},
     "output_type": "execute_result"
    }
   ],
   "source": [
    "df.shape"
   ]
  },
  {
   "cell_type": "code",
   "execution_count": 7,
   "id": "303ab926",
   "metadata": {},
   "outputs": [
    {
     "data": {
      "text/plain": [
       "iter            object\n",
       "anio             int64\n",
       "TRACTCE          int64\n",
       "values_mod      object\n",
       "fs             float64\n",
       "month           object\n",
       "variable        object\n",
       "scenario2       object\n",
       "description     object\n",
       "dtype: object"
      ]
     },
     "execution_count": 7,
     "metadata": {},
     "output_type": "execute_result"
    }
   ],
   "source": [
    "df.dtypes"
   ]
  },
  {
   "cell_type": "code",
   "execution_count": 6,
   "id": "981dd37a",
   "metadata": {},
   "outputs": [
    {
     "data": {
      "text/html": [
       "<div>\n",
       "<style scoped>\n",
       "    .dataframe tbody tr th:only-of-type {\n",
       "        vertical-align: middle;\n",
       "    }\n",
       "\n",
       "    .dataframe tbody tr th {\n",
       "        vertical-align: top;\n",
       "    }\n",
       "\n",
       "    .dataframe thead th {\n",
       "        text-align: right;\n",
       "    }\n",
       "</style>\n",
       "<table border=\"1\" class=\"dataframe\">\n",
       "  <thead>\n",
       "    <tr style=\"text-align: right;\">\n",
       "      <th></th>\n",
       "      <th>iter</th>\n",
       "      <th>anio</th>\n",
       "      <th>TRACTCE</th>\n",
       "      <th>values_mod</th>\n",
       "      <th>fs</th>\n",
       "      <th>month</th>\n",
       "      <th>variable</th>\n",
       "      <th>scenario2</th>\n",
       "      <th>description</th>\n",
       "    </tr>\n",
       "  </thead>\n",
       "  <tbody>\n",
       "    <tr>\n",
       "      <th>566764</th>\n",
       "      <td>True_0.2_0.2_0_0</td>\n",
       "      <td>21</td>\n",
       "      <td>11700</td>\n",
       "      <td>0K-24.9K</td>\n",
       "      <td>50.778816</td>\n",
       "      <td>M21</td>\n",
       "      <td>Income thresholds</td>\n",
       "      <td>C + D</td>\n",
       "      <td>This scenario combines increasing income eligi...</td>\n",
       "    </tr>\n",
       "    <tr>\n",
       "      <th>572026</th>\n",
       "      <td>True_0.2_0.2_0_0</td>\n",
       "      <td>23</td>\n",
       "      <td>10200</td>\n",
       "      <td>250K-499.9K</td>\n",
       "      <td>0.000000</td>\n",
       "      <td>M23</td>\n",
       "      <td>Income thresholds</td>\n",
       "      <td>C + D</td>\n",
       "      <td>This scenario combines increasing income eligi...</td>\n",
       "    </tr>\n",
       "    <tr>\n",
       "      <th>513462</th>\n",
       "      <td>True_0.2_0.2_0_0</td>\n",
       "      <td>17</td>\n",
       "      <td>7000</td>\n",
       "      <td>White</td>\n",
       "      <td>9.027778</td>\n",
       "      <td>M17</td>\n",
       "      <td>Race/ethnicity</td>\n",
       "      <td>C + D</td>\n",
       "      <td>This scenario combines increasing income eligi...</td>\n",
       "    </tr>\n",
       "    <tr>\n",
       "      <th>1085642</th>\n",
       "      <td>True_0_0_0_0</td>\n",
       "      <td>14</td>\n",
       "      <td>8400</td>\n",
       "      <td>White</td>\n",
       "      <td>15.422886</td>\n",
       "      <td>M14</td>\n",
       "      <td>Race/ethnicity</td>\n",
       "      <td>B</td>\n",
       "      <td>This is the baseline scenario that replicates ...</td>\n",
       "    </tr>\n",
       "    <tr>\n",
       "      <th>569512</th>\n",
       "      <td>True_0.2_0.2_0_0</td>\n",
       "      <td>22</td>\n",
       "      <td>13100</td>\n",
       "      <td>100K-249.9K</td>\n",
       "      <td>0.000000</td>\n",
       "      <td>M22</td>\n",
       "      <td>Income thresholds</td>\n",
       "      <td>C + D</td>\n",
       "      <td>This scenario combines increasing income eligi...</td>\n",
       "    </tr>\n",
       "  </tbody>\n",
       "</table>\n",
       "</div>"
      ],
      "text/plain": [
       "                     iter  anio  TRACTCE   values_mod         fs month  \\\n",
       "566764   True_0.2_0.2_0_0    21    11700     0K-24.9K  50.778816   M21   \n",
       "572026   True_0.2_0.2_0_0    23    10200  250K-499.9K   0.000000   M23   \n",
       "513462   True_0.2_0.2_0_0    17     7000        White   9.027778   M17   \n",
       "1085642      True_0_0_0_0    14     8400        White  15.422886   M14   \n",
       "569512   True_0.2_0.2_0_0    22    13100  100K-249.9K   0.000000   M22   \n",
       "\n",
       "                  variable scenario2  \\\n",
       "566764   Income thresholds     C + D   \n",
       "572026   Income thresholds     C + D   \n",
       "513462      Race/ethnicity     C + D   \n",
       "1085642     Race/ethnicity         B   \n",
       "569512   Income thresholds     C + D   \n",
       "\n",
       "                                               description  \n",
       "566764   This scenario combines increasing income eligi...  \n",
       "572026   This scenario combines increasing income eligi...  \n",
       "513462   This scenario combines increasing income eligi...  \n",
       "1085642  This is the baseline scenario that replicates ...  \n",
       "569512   This scenario combines increasing income eligi...  "
      ]
     },
     "execution_count": 6,
     "metadata": {},
     "output_type": "execute_result"
    }
   ],
   "source": [
    "df.sample(5)"
   ]
  },
  {
   "cell_type": "code",
   "execution_count": 12,
   "id": "282a0352",
   "metadata": {},
   "outputs": [],
   "source": [
    "df = df[[\"scenario2\", \"month\", \"variable\", \"values_mod\", \"fs\"]].rename(columns={\"scenario2\": \"scenario\", \"values_mod\": \"x\", \"fs\": \"y\"})"
   ]
  },
  {
   "cell_type": "code",
   "execution_count": 16,
   "id": "e58fccf6",
   "metadata": {},
   "outputs": [
    {
     "data": {
      "text/plain": [
       "scenario     object\n",
       "month        object\n",
       "variable     object\n",
       "x            object\n",
       "y           float64\n",
       "dtype: object"
      ]
     },
     "execution_count": 16,
     "metadata": {},
     "output_type": "execute_result"
    }
   ],
   "source": [
    "df.dtypes"
   ]
  },
  {
   "cell_type": "code",
   "execution_count": 13,
   "id": "214c44f7",
   "metadata": {},
   "outputs": [
    {
     "data": {
      "text/html": [
       "<div>\n",
       "<style scoped>\n",
       "    .dataframe tbody tr th:only-of-type {\n",
       "        vertical-align: middle;\n",
       "    }\n",
       "\n",
       "    .dataframe tbody tr th {\n",
       "        vertical-align: top;\n",
       "    }\n",
       "\n",
       "    .dataframe thead th {\n",
       "        text-align: right;\n",
       "    }\n",
       "</style>\n",
       "<table border=\"1\" class=\"dataframe\">\n",
       "  <thead>\n",
       "    <tr style=\"text-align: right;\">\n",
       "      <th></th>\n",
       "      <th>scenario</th>\n",
       "      <th>month</th>\n",
       "      <th>variable</th>\n",
       "      <th>x</th>\n",
       "      <th>y</th>\n",
       "    </tr>\n",
       "  </thead>\n",
       "  <tbody>\n",
       "    <tr>\n",
       "      <th>213746</th>\n",
       "      <td>F</td>\n",
       "      <td>M10</td>\n",
       "      <td>Race/ethnicity</td>\n",
       "      <td>Asian</td>\n",
       "      <td>6.666667</td>\n",
       "    </tr>\n",
       "    <tr>\n",
       "      <th>1082656</th>\n",
       "      <td>B</td>\n",
       "      <td>M12</td>\n",
       "      <td>Race/ethnicity</td>\n",
       "      <td>White</td>\n",
       "      <td>3.661972</td>\n",
       "    </tr>\n",
       "    <tr>\n",
       "      <th>472830</th>\n",
       "      <td>C + D + E</td>\n",
       "      <td>M22</td>\n",
       "      <td>Income thresholds</td>\n",
       "      <td>250K-499.9K</td>\n",
       "      <td>0.000000</td>\n",
       "    </tr>\n",
       "    <tr>\n",
       "      <th>758252</th>\n",
       "      <td>G</td>\n",
       "      <td>M20</td>\n",
       "      <td>Income thresholds</td>\n",
       "      <td>50K-74.9K</td>\n",
       "      <td>17.344173</td>\n",
       "    </tr>\n",
       "    <tr>\n",
       "      <th>143026</th>\n",
       "      <td>F + G</td>\n",
       "      <td>M23</td>\n",
       "      <td>Race/ethnicity</td>\n",
       "      <td>White</td>\n",
       "      <td>11.707317</td>\n",
       "    </tr>\n",
       "  </tbody>\n",
       "</table>\n",
       "</div>"
      ],
      "text/plain": [
       "          scenario month           variable            x          y\n",
       "213746           F   M10     Race/ethnicity        Asian   6.666667\n",
       "1082656          B   M12     Race/ethnicity        White   3.661972\n",
       "472830   C + D + E   M22  Income thresholds  250K-499.9K   0.000000\n",
       "758252           G   M20  Income thresholds    50K-74.9K  17.344173\n",
       "143026       F + G   M23     Race/ethnicity        White  11.707317"
      ]
     },
     "execution_count": 13,
     "metadata": {},
     "output_type": "execute_result"
    }
   ],
   "source": [
    "df.sample(5)"
   ]
  },
  {
   "cell_type": "code",
   "execution_count": 23,
   "id": "53ec3deb",
   "metadata": {},
   "outputs": [
    {
     "data": {
      "text/plain": [
       "'A, B, C, C + D, C + D + E, C + F, D, D + E, E, F, F + G, G'"
      ]
     },
     "execution_count": 23,
     "metadata": {},
     "output_type": "execute_result"
    }
   ],
   "source": [
    "scenarios = df[\"scenario\"].unique().tolist()\n",
    "scenarios.sort()\n",
    "\", \".join(scenarios)"
   ]
  },
  {
   "cell_type": "code",
   "execution_count": 25,
   "id": "def0900b",
   "metadata": {},
   "outputs": [
    {
     "data": {
      "text/plain": [
       "12"
      ]
     },
     "execution_count": 25,
     "metadata": {},
     "output_type": "execute_result"
    }
   ],
   "source": [
    "len(scenarios)"
   ]
  },
  {
   "cell_type": "code",
   "execution_count": 26,
   "id": "ad1007df",
   "metadata": {},
   "outputs": [
    {
     "data": {
      "text/plain": [
       "['Food stamps beneficiaries', 'Race/ethnicity', 'Income thresholds']"
      ]
     },
     "execution_count": 26,
     "metadata": {},
     "output_type": "execute_result"
    }
   ],
   "source": [
    "df[\"variable\"].unique().tolist()\n"
   ]
  },
  {
   "cell_type": "code",
   "execution_count": 28,
   "id": "e1d6c729",
   "metadata": {},
   "outputs": [
    {
     "data": {
      "text/plain": [
       "'M10, M11, M12, M13, M14, M15, M16, M17, M18, M19, M20, M21, M22, M23, M24, M7, M8, M9'"
      ]
     },
     "execution_count": 28,
     "metadata": {},
     "output_type": "execute_result"
    }
   ],
   "source": [
    "months = df[\"month\"].unique().tolist()\n",
    "months.sort()\n",
    "\", \".join(months)"
   ]
  },
  {
   "cell_type": "code",
   "execution_count": 15,
   "id": "04c08c7e",
   "metadata": {},
   "outputs": [],
   "source": [
    "df.to_csv(\"../www/data/scenarios_distribution.csv\", index=False)"
   ]
  },
  {
   "cell_type": "code",
   "execution_count": 29,
   "id": "d364bcc5",
   "metadata": {},
   "outputs": [],
   "source": [
    "df_2 = pd.read_csv(\"../data/velocimetros.csv\", low_memory=False)"
   ]
  },
  {
   "cell_type": "code",
   "execution_count": 31,
   "id": "e45a6502",
   "metadata": {},
   "outputs": [
    {
     "data": {
      "text/plain": [
       "(216, 17)"
      ]
     },
     "execution_count": 31,
     "metadata": {},
     "output_type": "execute_result"
    }
   ],
   "source": [
    "df_2.shape"
   ]
  },
  {
   "cell_type": "code",
   "execution_count": 32,
   "id": "7b95fd53",
   "metadata": {},
   "outputs": [
    {
     "data": {
      "text/plain": [
       "iter                      object\n",
       "anio                       int64\n",
       "stamps                   float64\n",
       "ph                       float64\n",
       "stamps_bl                float64\n",
       "ph_bl                    float64\n",
       "perc_stamps              float64\n",
       "perc_ph                  float64\n",
       "fs                       float64\n",
       "fsbl                     float64\n",
       "perc_fs                  float64\n",
       "fs_beneficiaries         float64\n",
       "fsbl_beneficiaries       float64\n",
       "perc_fs_beneficiaries    float64\n",
       "month                     object\n",
       "scenario2                 object\n",
       "description               object\n",
       "dtype: object"
      ]
     },
     "execution_count": 32,
     "metadata": {},
     "output_type": "execute_result"
    }
   ],
   "source": [
    "df_2.dtypes"
   ]
  },
  {
   "cell_type": "code",
   "execution_count": 33,
   "id": "37340197",
   "metadata": {},
   "outputs": [
    {
     "data": {
      "text/html": [
       "<div>\n",
       "<style scoped>\n",
       "    .dataframe tbody tr th:only-of-type {\n",
       "        vertical-align: middle;\n",
       "    }\n",
       "\n",
       "    .dataframe tbody tr th {\n",
       "        vertical-align: top;\n",
       "    }\n",
       "\n",
       "    .dataframe thead th {\n",
       "        text-align: right;\n",
       "    }\n",
       "</style>\n",
       "<table border=\"1\" class=\"dataframe\">\n",
       "  <thead>\n",
       "    <tr style=\"text-align: right;\">\n",
       "      <th></th>\n",
       "      <th>iter</th>\n",
       "      <th>anio</th>\n",
       "      <th>stamps</th>\n",
       "      <th>ph</th>\n",
       "      <th>stamps_bl</th>\n",
       "      <th>ph_bl</th>\n",
       "      <th>perc_stamps</th>\n",
       "      <th>perc_ph</th>\n",
       "      <th>fs</th>\n",
       "      <th>fsbl</th>\n",
       "      <th>perc_fs</th>\n",
       "      <th>fs_beneficiaries</th>\n",
       "      <th>fsbl_beneficiaries</th>\n",
       "      <th>perc_fs_beneficiaries</th>\n",
       "      <th>month</th>\n",
       "      <th>scenario2</th>\n",
       "      <th>description</th>\n",
       "    </tr>\n",
       "  </thead>\n",
       "  <tbody>\n",
       "    <tr>\n",
       "      <th>1</th>\n",
       "      <td>False_0_0_0_0</td>\n",
       "      <td>8</td>\n",
       "      <td>1.252091e+06</td>\n",
       "      <td>12.233333</td>\n",
       "      <td>1.134917e+06</td>\n",
       "      <td>12.233333</td>\n",
       "      <td>0.103245</td>\n",
       "      <td>0.0</td>\n",
       "      <td>14.086548</td>\n",
       "      <td>14.391707</td>\n",
       "      <td>-0.021204</td>\n",
       "      <td>26733.0</td>\n",
       "      <td>23493.25</td>\n",
       "      <td>0.137901</td>\n",
       "      <td>M8</td>\n",
       "      <td>A</td>\n",
       "      <td>In this scenario, food stamps are turned off f...</td>\n",
       "    </tr>\n",
       "    <tr>\n",
       "      <th>169</th>\n",
       "      <td>True_0_0.2_0_0</td>\n",
       "      <td>14</td>\n",
       "      <td>1.773550e+06</td>\n",
       "      <td>12.233333</td>\n",
       "      <td>1.134917e+06</td>\n",
       "      <td>12.233333</td>\n",
       "      <td>0.562714</td>\n",
       "      <td>0.0</td>\n",
       "      <td>13.338891</td>\n",
       "      <td>14.376196</td>\n",
       "      <td>-0.072154</td>\n",
       "      <td>33511.0</td>\n",
       "      <td>23493.25</td>\n",
       "      <td>0.426410</td>\n",
       "      <td>M14</td>\n",
       "      <td>D</td>\n",
       "      <td>In this scenario the stamp calculation base is...</td>\n",
       "    </tr>\n",
       "    <tr>\n",
       "      <th>14</th>\n",
       "      <td>False_0_0_0_0</td>\n",
       "      <td>21</td>\n",
       "      <td>1.252091e+06</td>\n",
       "      <td>12.233333</td>\n",
       "      <td>1.134917e+06</td>\n",
       "      <td>12.233333</td>\n",
       "      <td>0.103245</td>\n",
       "      <td>0.0</td>\n",
       "      <td>14.069852</td>\n",
       "      <td>14.362365</td>\n",
       "      <td>-0.020367</td>\n",
       "      <td>26733.0</td>\n",
       "      <td>23493.25</td>\n",
       "      <td>0.137901</td>\n",
       "      <td>M21</td>\n",
       "      <td>A</td>\n",
       "      <td>In this scenario, food stamps are turned off f...</td>\n",
       "    </tr>\n",
       "    <tr>\n",
       "      <th>77</th>\n",
       "      <td>True_0.2_0.2_0.2_0</td>\n",
       "      <td>12</td>\n",
       "      <td>1.601429e+06</td>\n",
       "      <td>12.233333</td>\n",
       "      <td>1.134917e+06</td>\n",
       "      <td>12.233333</td>\n",
       "      <td>0.411054</td>\n",
       "      <td>0.0</td>\n",
       "      <td>13.593144</td>\n",
       "      <td>14.376454</td>\n",
       "      <td>-0.054486</td>\n",
       "      <td>30682.0</td>\n",
       "      <td>23493.25</td>\n",
       "      <td>0.305992</td>\n",
       "      <td>M12</td>\n",
       "      <td>C + D + E</td>\n",
       "      <td>This scenario combines increasing income eligi...</td>\n",
       "    </tr>\n",
       "    <tr>\n",
       "      <th>92</th>\n",
       "      <td>True_0.2_0.2_0_0</td>\n",
       "      <td>9</td>\n",
       "      <td>1.562888e+06</td>\n",
       "      <td>12.233333</td>\n",
       "      <td>1.134917e+06</td>\n",
       "      <td>12.233333</td>\n",
       "      <td>0.377095</td>\n",
       "      <td>0.0</td>\n",
       "      <td>13.613179</td>\n",
       "      <td>14.401530</td>\n",
       "      <td>-0.054741</td>\n",
       "      <td>31736.0</td>\n",
       "      <td>23493.25</td>\n",
       "      <td>0.350856</td>\n",
       "      <td>M9</td>\n",
       "      <td>C + D</td>\n",
       "      <td>This scenario combines increasing income eligi...</td>\n",
       "    </tr>\n",
       "  </tbody>\n",
       "</table>\n",
       "</div>"
      ],
      "text/plain": [
       "                   iter  anio        stamps         ph     stamps_bl  \\\n",
       "1         False_0_0_0_0     8  1.252091e+06  12.233333  1.134917e+06   \n",
       "169      True_0_0.2_0_0    14  1.773550e+06  12.233333  1.134917e+06   \n",
       "14        False_0_0_0_0    21  1.252091e+06  12.233333  1.134917e+06   \n",
       "77   True_0.2_0.2_0.2_0    12  1.601429e+06  12.233333  1.134917e+06   \n",
       "92     True_0.2_0.2_0_0     9  1.562888e+06  12.233333  1.134917e+06   \n",
       "\n",
       "         ph_bl  perc_stamps  perc_ph         fs       fsbl   perc_fs  \\\n",
       "1    12.233333     0.103245      0.0  14.086548  14.391707 -0.021204   \n",
       "169  12.233333     0.562714      0.0  13.338891  14.376196 -0.072154   \n",
       "14   12.233333     0.103245      0.0  14.069852  14.362365 -0.020367   \n",
       "77   12.233333     0.411054      0.0  13.593144  14.376454 -0.054486   \n",
       "92   12.233333     0.377095      0.0  13.613179  14.401530 -0.054741   \n",
       "\n",
       "     fs_beneficiaries  fsbl_beneficiaries  perc_fs_beneficiaries month  \\\n",
       "1             26733.0            23493.25               0.137901    M8   \n",
       "169           33511.0            23493.25               0.426410   M14   \n",
       "14            26733.0            23493.25               0.137901   M21   \n",
       "77            30682.0            23493.25               0.305992   M12   \n",
       "92            31736.0            23493.25               0.350856    M9   \n",
       "\n",
       "     scenario2                                        description  \n",
       "1            A  In this scenario, food stamps are turned off f...  \n",
       "169          D  In this scenario the stamp calculation base is...  \n",
       "14           A  In this scenario, food stamps are turned off f...  \n",
       "77   C + D + E  This scenario combines increasing income eligi...  \n",
       "92       C + D  This scenario combines increasing income eligi...  "
      ]
     },
     "execution_count": 33,
     "metadata": {},
     "output_type": "execute_result"
    }
   ],
   "source": [
    "df_2.sample(5)"
   ]
  },
  {
   "cell_type": "code",
   "execution_count": 38,
   "id": "cad4716c",
   "metadata": {},
   "outputs": [],
   "source": [
    "df_2 = df_2[[\"scenario2\", \"month\", \"perc_fs\", \"perc_fs_beneficiaries\", \"perc_stamps\"]].rename(columns={\"scenario2\": \"scenario\"})"
   ]
  },
  {
   "cell_type": "code",
   "execution_count": 39,
   "id": "7943c7b7",
   "metadata": {},
   "outputs": [
    {
     "data": {
      "text/html": [
       "<div>\n",
       "<style scoped>\n",
       "    .dataframe tbody tr th:only-of-type {\n",
       "        vertical-align: middle;\n",
       "    }\n",
       "\n",
       "    .dataframe tbody tr th {\n",
       "        vertical-align: top;\n",
       "    }\n",
       "\n",
       "    .dataframe thead th {\n",
       "        text-align: right;\n",
       "    }\n",
       "</style>\n",
       "<table border=\"1\" class=\"dataframe\">\n",
       "  <thead>\n",
       "    <tr style=\"text-align: right;\">\n",
       "      <th></th>\n",
       "      <th>perc_fs</th>\n",
       "      <th>perc_fs_beneficiaries</th>\n",
       "      <th>perc_stamps</th>\n",
       "    </tr>\n",
       "  </thead>\n",
       "  <tbody>\n",
       "    <tr>\n",
       "      <th>count</th>\n",
       "      <td>216.000000</td>\n",
       "      <td>216.000000</td>\n",
       "      <td>216.000000</td>\n",
       "    </tr>\n",
       "    <tr>\n",
       "      <th>mean</th>\n",
       "      <td>-0.041256</td>\n",
       "      <td>0.242852</td>\n",
       "      <td>0.295129</td>\n",
       "    </tr>\n",
       "    <tr>\n",
       "      <th>std</th>\n",
       "      <td>0.021901</td>\n",
       "      <td>0.144535</td>\n",
       "      <td>0.188777</td>\n",
       "    </tr>\n",
       "    <tr>\n",
       "      <th>min</th>\n",
       "      <td>-0.073262</td>\n",
       "      <td>0.000000</td>\n",
       "      <td>0.000000</td>\n",
       "    </tr>\n",
       "    <tr>\n",
       "      <th>25%</th>\n",
       "      <td>-0.058147</td>\n",
       "      <td>0.130259</td>\n",
       "      <td>0.131968</td>\n",
       "    </tr>\n",
       "    <tr>\n",
       "      <th>50%</th>\n",
       "      <td>-0.047935</td>\n",
       "      <td>0.297852</td>\n",
       "      <td>0.335899</td>\n",
       "    </tr>\n",
       "    <tr>\n",
       "      <th>75%</th>\n",
       "      <td>-0.028152</td>\n",
       "      <td>0.355517</td>\n",
       "      <td>0.454038</td>\n",
       "    </tr>\n",
       "    <tr>\n",
       "      <th>max</th>\n",
       "      <td>0.000000</td>\n",
       "      <td>0.426410</td>\n",
       "      <td>0.562714</td>\n",
       "    </tr>\n",
       "  </tbody>\n",
       "</table>\n",
       "</div>"
      ],
      "text/plain": [
       "          perc_fs  perc_fs_beneficiaries  perc_stamps\n",
       "count  216.000000             216.000000   216.000000\n",
       "mean    -0.041256               0.242852     0.295129\n",
       "std      0.021901               0.144535     0.188777\n",
       "min     -0.073262               0.000000     0.000000\n",
       "25%     -0.058147               0.130259     0.131968\n",
       "50%     -0.047935               0.297852     0.335899\n",
       "75%     -0.028152               0.355517     0.454038\n",
       "max      0.000000               0.426410     0.562714"
      ]
     },
     "execution_count": 39,
     "metadata": {},
     "output_type": "execute_result"
    }
   ],
   "source": [
    "df_2.describe()"
   ]
  },
  {
   "cell_type": "code",
   "execution_count": 41,
   "id": "77dcd7c8",
   "metadata": {},
   "outputs": [
    {
     "data": {
      "text/html": [
       "<div>\n",
       "<style scoped>\n",
       "    .dataframe tbody tr th:only-of-type {\n",
       "        vertical-align: middle;\n",
       "    }\n",
       "\n",
       "    .dataframe tbody tr th {\n",
       "        vertical-align: top;\n",
       "    }\n",
       "\n",
       "    .dataframe thead th {\n",
       "        text-align: right;\n",
       "    }\n",
       "</style>\n",
       "<table border=\"1\" class=\"dataframe\">\n",
       "  <thead>\n",
       "    <tr style=\"text-align: right;\">\n",
       "      <th></th>\n",
       "      <th>scenario</th>\n",
       "      <th>month</th>\n",
       "      <th>perc_fs</th>\n",
       "      <th>perc_fs_beneficiaries</th>\n",
       "      <th>perc_stamps</th>\n",
       "    </tr>\n",
       "  </thead>\n",
       "  <tbody>\n",
       "    <tr>\n",
       "      <th>54</th>\n",
       "      <td>C + F</td>\n",
       "      <td>M7</td>\n",
       "      <td>-0.038786</td>\n",
       "      <td>0.107331</td>\n",
       "      <td>0.175555</td>\n",
       "    </tr>\n",
       "    <tr>\n",
       "      <th>191</th>\n",
       "      <td>E</td>\n",
       "      <td>M18</td>\n",
       "      <td>-0.006047</td>\n",
       "      <td>0.026024</td>\n",
       "      <td>0.037136</td>\n",
       "    </tr>\n",
       "    <tr>\n",
       "      <th>199</th>\n",
       "      <td>B</td>\n",
       "      <td>M8</td>\n",
       "      <td>0.000000</td>\n",
       "      <td>0.000000</td>\n",
       "      <td>0.000000</td>\n",
       "    </tr>\n",
       "    <tr>\n",
       "      <th>193</th>\n",
       "      <td>E</td>\n",
       "      <td>M20</td>\n",
       "      <td>-0.005976</td>\n",
       "      <td>0.026024</td>\n",
       "      <td>0.037136</td>\n",
       "    </tr>\n",
       "    <tr>\n",
       "      <th>132</th>\n",
       "      <td>G</td>\n",
       "      <td>M13</td>\n",
       "      <td>-0.060871</td>\n",
       "      <td>0.403034</td>\n",
       "      <td>0.528103</td>\n",
       "    </tr>\n",
       "  </tbody>\n",
       "</table>\n",
       "</div>"
      ],
      "text/plain": [
       "    scenario month   perc_fs  perc_fs_beneficiaries  perc_stamps\n",
       "54     C + F    M7 -0.038786               0.107331     0.175555\n",
       "191        E   M18 -0.006047               0.026024     0.037136\n",
       "199        B    M8  0.000000               0.000000     0.000000\n",
       "193        E   M20 -0.005976               0.026024     0.037136\n",
       "132        G   M13 -0.060871               0.403034     0.528103"
      ]
     },
     "execution_count": 41,
     "metadata": {},
     "output_type": "execute_result"
    }
   ],
   "source": [
    "df_2.sample(5)"
   ]
  },
  {
   "cell_type": "code",
   "execution_count": 42,
   "id": "0afde93f",
   "metadata": {},
   "outputs": [],
   "source": [
    "df_2.to_csv(\"../www/data/scenarios_perc_changes.csv\", index=False)"
   ]
  },
  {
   "cell_type": "code",
   "execution_count": null,
   "id": "73f3c679",
   "metadata": {},
   "outputs": [],
   "source": []
  }
 ],
 "metadata": {
  "kernelspec": {
   "display_name": "base",
   "language": "python",
   "name": "python3"
  },
  "language_info": {
   "codemirror_mode": {
    "name": "ipython",
    "version": 3
   },
   "file_extension": ".py",
   "mimetype": "text/x-python",
   "name": "python",
   "nbconvert_exporter": "python",
   "pygments_lexer": "ipython3",
   "version": "3.11.7"
  }
 },
 "nbformat": 4,
 "nbformat_minor": 5
}
